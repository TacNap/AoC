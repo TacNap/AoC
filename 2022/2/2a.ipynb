{
 "cells": [
  {
   "cell_type": "code",
   "execution_count": 11,
   "id": "4deba16c",
   "metadata": {},
   "outputs": [
    {
     "name": "stdout",
     "output_type": "stream",
     "text": [
      "11063\n"
     ]
    }
   ],
   "source": [
    "with open(\"input.txt\", \"r\") as f:\n",
    "    data = f.readlines()\n",
    "    \n",
    "sum = 0\n",
    "\n",
    "for d in data:\n",
    "    if d == \"A X\\n\":\n",
    "         sum += 4\n",
    "    elif d == \"A Y\\n\":\n",
    "         sum += 8\n",
    "    elif d == \"A Z\\n\":\n",
    "         sum += 3\n",
    "    elif d == \"B X\\n\":\n",
    "         sum += 1\n",
    "    elif d == \"B Y\\n\":\n",
    "         sum += 5\n",
    "    elif d == \"B Z\\n\":\n",
    "         sum += 9\n",
    "    elif d == \"C X\\n\":\n",
    "         sum += 7\n",
    "    elif d == \"C Y\\n\":\n",
    "         sum += 2\n",
    "    elif d == \"C Z\\n\":\n",
    "         sum += 6                \n",
    "\n",
    "print(sum)\n",
    "            \n",
    "    "
   ]
  },
  {
   "cell_type": "code",
   "execution_count": 6,
   "id": "2e903cb7",
   "metadata": {},
   "outputs": [
    {
     "ename": "NameError",
     "evalue": "name 'python3' is not defined",
     "output_type": "error",
     "traceback": [
      "\u001b[1;31m---------------------------------------------------------------------------\u001b[0m",
      "\u001b[1;31mNameError\u001b[0m                                 Traceback (most recent call last)",
      "Input \u001b[1;32mIn [6]\u001b[0m, in \u001b[0;36m<cell line: 1>\u001b[1;34m()\u001b[0m\n\u001b[1;32m----> 1\u001b[0m \u001b[43mpython3\u001b[49m \u001b[38;5;241m-\u001b[39m\u001b[38;5;241m-\u001b[39mver\n",
      "\u001b[1;31mNameError\u001b[0m: name 'python3' is not defined"
     ]
    }
   ],
   "source": []
  },
  {
   "cell_type": "code",
   "execution_count": null,
   "id": "dd0eb5ad",
   "metadata": {},
   "outputs": [],
   "source": []
  }
 ],
 "metadata": {
  "kernelspec": {
   "display_name": "Python 3 (ipykernel)",
   "language": "python",
   "name": "python3"
  },
  "language_info": {
   "codemirror_mode": {
    "name": "ipython",
    "version": 3
   },
   "file_extension": ".py",
   "mimetype": "text/x-python",
   "name": "python",
   "nbconvert_exporter": "python",
   "pygments_lexer": "ipython3",
   "version": "3.9.12"
  }
 },
 "nbformat": 4,
 "nbformat_minor": 5
}
