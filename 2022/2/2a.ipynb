{
 "cells": [
  {
   "cell_type": "code",
   "execution_count": 11,
   "id": "4deba16c",
   "metadata": {},
   "outputs": [
    {
     "name": "stdout",
     "output_type": "stream",
     "text": [
      "11063\n"
     ]
    }
   ],
   "source": [
    "with open(\"input.txt\", \"r\") as f:\n",
    "    data = f.readlines()\n",
    "    \n",
    "sum = 0\n",
    "\n",
    "for d in data:\n",
    "    if d == \"A X\\n\":\n",
    "         sum += 4\n",
    "    elif d == \"A Y\\n\":\n",
    "         sum += 8\n",
    "    elif d == \"A Z\\n\":\n",
    "         sum += 3\n",
    "    elif d == \"B X\\n\":\n",
    "         sum += 1\n",
    "    elif d == \"B Y\\n\":\n",
    "         sum += 5\n",
    "    elif d == \"B Z\\n\":\n",
    "         sum += 9\n",
    "    elif d == \"C X\\n\":\n",
    "         sum += 7\n",
    "    elif d == \"C Y\\n\":\n",
    "         sum += 2\n",
    "    elif d == \"C Z\\n\":\n",
    "         sum += 6                \n",
    "\n",
    "print(sum)\n",
    "            \n",
    "    "
   ]
  },
  {
   "cell_type": "code",
   "execution_count": null,
   "id": "dd0eb5ad",
   "metadata": {},
   "outputs": [],
   "source": []
  }
 ],
 "metadata": {
  "kernelspec": {
   "display_name": "Python 3 (ipykernel)",
   "language": "python",
   "name": "python3"
  },
  "language_info": {
   "codemirror_mode": {
    "name": "ipython",
    "version": 3
   },
   "file_extension": ".py",
   "mimetype": "text/x-python",
   "name": "python",
   "nbconvert_exporter": "python",
   "pygments_lexer": "ipython3",
   "version": "3.9.12"
  }
 },
 "nbformat": 4,
 "nbformat_minor": 5
}
