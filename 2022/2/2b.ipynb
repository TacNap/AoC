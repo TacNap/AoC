{
 "cells": [
  {
   "cell_type": "code",
   "execution_count": 60,
   "id": "c1c57602",
   "metadata": {},
   "outputs": [
    {
     "name": "stdout",
     "output_type": "stream",
     "text": [
      "10349\n"
     ]
    }
   ],
   "source": [
    "# Read input data\n",
    "with open(\"input.txt\", \"r\") as f:\n",
    "    data = f.readlines()\n",
    "    arr = []\n",
    "    sum = 0\n",
    "    \n",
    "# Strip individual lines into \"x\",\"y\" pairs\n",
    "for d in data:\n",
    "    arr.append(d.strip().split(\" \"))\n",
    "    \n",
    "# This method was stupid\n",
    "shape_score = {\"A\": 1, \"B\": 2, \"C\": 3}\n",
    "result_score = {\"X\": 0, \"Y\": 3, \"Z\": 6}\n",
    "\n",
    "    \n",
    "# Iterate through pairs,\n",
    "# and assign value to 'play' based on pair\n",
    "for x, y in arr:\n",
    "    \n",
    "    if y == 'X':\n",
    "        # play = shape_score-1\n",
    "        key = list(shape_score)[shape_score[x]-2]\n",
    "        play = shape_score[key]\n",
    "    if y == 'Y':\n",
    "        # play = shape_score\n",
    "        key = list(shape_score)[shape_score[x]-1]\n",
    "        play = shape_score[key]\n",
    "    if y == 'Z':\n",
    "        # play = shape_score+1\n",
    "        key = list(shape_score)[shape_score[x]-3]\n",
    "        play = shape_score[key]\n",
    "        \n",
    "    sum += (play + result_score[y])\n",
    "    \n",
    "print(sum)\n",
    "    \n",
    "        \n",
    "    \n",
    "\n",
    "\n",
    "\n"
   ]
  }
 ],
 "metadata": {
  "kernelspec": {
   "display_name": "Python 3 (ipykernel)",
   "language": "python",
   "name": "python3"
  },
  "language_info": {
   "codemirror_mode": {
    "name": "ipython",
    "version": 3
   },
   "file_extension": ".py",
   "mimetype": "text/x-python",
   "name": "python",
   "nbconvert_exporter": "python",
   "pygments_lexer": "ipython3",
   "version": "3.9.12"
  }
 },
 "nbformat": 4,
 "nbformat_minor": 5
}
