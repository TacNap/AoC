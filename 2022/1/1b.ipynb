{
 "cells": [
  {
   "cell_type": "code",
   "execution_count": 5,
   "id": "884cce88",
   "metadata": {},
   "outputs": [
    {
     "name": "stdout",
     "output_type": "stream",
     "text": [
      "70369\n",
      "66781\n",
      "65852\n",
      "203002\n"
     ]
    }
   ],
   "source": [
    "with open(\"input.txt\", \"r\") as f:\n",
    "    data = f.readlines()\n",
    "    \n",
    "curr_1 = 0;\n",
    "curr_2 = 0;\n",
    "curr_3 = 0;\n",
    "\n",
    "curr_sum = 0;\n",
    "\n",
    "for d in data:\n",
    "    if d == \"\\n\":       \n",
    "        if curr_1 < curr_sum:\n",
    "            curr_1 = curr_sum\n",
    "        elif curr_2 < curr_sum:\n",
    "            curr_2 = curr_sum\n",
    "        else:\n",
    "            curr_3 = max(curr_sum, curr_3)\n",
    "        curr_sum = 0\n",
    "        \n",
    "    else:\n",
    "        curr_sum += int(d)\n",
    "        \n",
    "print(curr_1)\n",
    "print(curr_2)\n",
    "print(curr_3)\n",
    "print(curr_1+curr_2+curr_3)"
   ]
  },
  {
   "cell_type": "code",
   "execution_count": null,
   "id": "07835306",
   "metadata": {},
   "outputs": [],
   "source": []
  }
 ],
 "metadata": {
  "kernelspec": {
   "display_name": "Python 3 (ipykernel)",
   "language": "python",
   "name": "python3"
  },
  "language_info": {
   "codemirror_mode": {
    "name": "ipython",
    "version": 3
   },
   "file_extension": ".py",
   "mimetype": "text/x-python",
   "name": "python",
   "nbconvert_exporter": "python",
   "pygments_lexer": "ipython3",
   "version": "3.9.12"
  }
 },
 "nbformat": 4,
 "nbformat_minor": 5
}
