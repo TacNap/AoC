{
 "cells": [
  {
   "cell_type": "code",
   "execution_count": 9,
   "id": "b0bdcea4",
   "metadata": {},
   "outputs": [
    {
     "name": "stdout",
     "output_type": "stream",
     "text": [
      "70369\n"
     ]
    }
   ],
   "source": [
    "with open(\"input.txt\", \"r\") as f:\n",
    "    data = f.readlines()\n",
    "    \n",
    "curr_max = 0;\n",
    "curr_sum = 0;\n",
    "\n",
    "for d in data:\n",
    "    if d == \"\\n\":\n",
    "        curr_max = max(curr_sum, curr_max)\n",
    "        curr_sum = 0\n",
    "    else:\n",
    "        curr_sum += int(d)\n",
    "        \n",
    "print(curr_max)\n",
    "        "
   ]
  }
 ],
 "metadata": {
  "kernelspec": {
   "display_name": "Python 3 (ipykernel)",
   "language": "python",
   "name": "python3"
  },
  "language_info": {
   "codemirror_mode": {
    "name": "ipython",
    "version": 3
   },
   "file_extension": ".py",
   "mimetype": "text/x-python",
   "name": "python",
   "nbconvert_exporter": "python",
   "pygments_lexer": "ipython3",
   "version": "3.9.12"
  }
 },
 "nbformat": 4,
 "nbformat_minor": 5
}
