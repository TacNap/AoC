{
 "cells": [
  {
   "cell_type": "code",
   "execution_count": null,
   "id": "068e5060",
   "metadata": {},
   "outputs": [],
   "source": [
    "with open(\"input.txt\", \"r\") as f:\n",
    "    data = f.readlines()\n",
    "    \n",
    "curr_1 = 0;\n",
    "curr_2 = 0;\n",
    "curr_3 = 0;\n",
    "\n",
    "curr_sum = 0;\n",
    "\n",
    "for d in data:\n",
    "    if d == \"\\n\":       \n",
    "        if curr_1 < curr_sum:\n",
    "            curr_1 = curr_sum\n",
    "        else if curr_2 < curr_sum:\n",
    "            curr_2 = curr_sum\n",
    "        else:\n",
    "            curr_3 = max(curr_sum, curr_max)\n",
    "        curr_sum = 0\n",
    "        \n",
    "    else:\n",
    "        curr_sum += int(d)\n",
    "        \n",
    "print(curr_max)\n",
    "        "
   ]
  }
 ],
 "metadata": {
  "kernelspec": {
   "display_name": "Python 3 (ipykernel)",
   "language": "python",
   "name": "python3"
  },
  "language_info": {
   "codemirror_mode": {
    "name": "ipython",
    "version": 3
   },
   "file_extension": ".py",
   "mimetype": "text/x-python",
   "name": "python",
   "nbconvert_exporter": "python",
   "pygments_lexer": "ipython3",
   "version": "3.9.12"
  }
 },
 "nbformat": 4,
 "nbformat_minor": 5
}
